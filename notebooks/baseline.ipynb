{
 "cells": [
  {
   "cell_type": "code",
   "execution_count": 2,
   "metadata": {},
   "outputs": [
    {
     "name": "stdout",
     "output_type": "stream",
     "text": [
      "   Fold  Accuracy  Pearson Coefficient       MSE\n",
      "0     1  1.000000             1.000000  0.000000\n",
      "1     2  0.966667             0.974037  0.033333\n",
      "2     3  0.933333             0.956452  0.066667\n",
      "3     4  0.966667             0.974869  0.033333\n",
      "4     5  0.933333             0.944954  0.066667\n",
      "5  Mean  0.960000             0.970063  0.040000\n"
     ]
    }
   ],
   "source": [
    "import numpy as np\n",
    "import pandas as pd\n",
    "from sklearn.model_selection import KFold\n",
    "from sklearn.naive_bayes import GaussianNB\n",
    "from sklearn.preprocessing import LabelEncoder\n",
    "from sklearn.metrics import accuracy_score, mean_squared_error\n",
    "from scipy.stats import pearsonr\n",
    "\n",
    "# Carregar o conjunto de dados do arquivo Excel\n",
    "file_path = '../data/iris_dataset.xlsx'  # substitua pelo caminho para o seu arquivo\n",
    "df = pd.read_excel(file_path)\n",
    "\n",
    "# Supondo que o DataFrame tem as colunas ['meas1', 'meas2', 'meas3', 'meas4', 'species']\n",
    "X = df[['meas1', 'meas2', 'meas3', 'meas4']].values\n",
    "y = df['species'].values\n",
    "\n",
    "# Codificar os valores de y (species) para valores numéricos\n",
    "label_encoder = LabelEncoder()\n",
    "y_encoded = label_encoder.fit_transform(y)\n",
    "\n",
    "# Criar o classificador Naive Bayes\n",
    "nb_classifier = GaussianNB()\n",
    "\n",
    "# Configurar validação cruzada com 5 pastas\n",
    "kf = KFold(n_splits=5, shuffle=True, random_state=42)\n",
    "\n",
    "results = {\n",
    "    'Fold': [],\n",
    "    'Accuracy': [],\n",
    "    'Pearson Coefficient': [],\n",
    "    'MSE': []\n",
    "}\n",
    "\n",
    "fold_number = 1\n",
    "\n",
    "for train_index, test_index in kf.split(X):\n",
    "    X_train, X_test = X[train_index], X[test_index]\n",
    "    y_train, y_test = y_encoded[train_index], y_encoded[test_index]\n",
    "    \n",
    "    nb_classifier.fit(X_train, y_train)\n",
    "    y_pred = nb_classifier.predict(X_test)\n",
    "    \n",
    "    # Calcular acurácia\n",
    "    accuracy = accuracy_score(y_test, y_pred)\n",
    "    \n",
    "    # Calcular coeficiente de Pearson\n",
    "    pearson_coef, _ = pearsonr(y_test, y_pred)\n",
    "    \n",
    "    # Calcular erro médio quadrático\n",
    "    mse = mean_squared_error(y_test, y_pred)\n",
    "    \n",
    "    # Armazenar resultados\n",
    "    results['Fold'].append(fold_number)\n",
    "    results['Accuracy'].append(accuracy)\n",
    "    results['Pearson Coefficient'].append(pearson_coef)\n",
    "    results['MSE'].append(mse)\n",
    "    \n",
    "    fold_number += 1\n",
    "\n",
    "# Calcular valores médios e adicionar ao DataFrame\n",
    "mean_accuracy = np.mean(results['Accuracy'])\n",
    "mean_pearson = np.mean(results['Pearson Coefficient'])\n",
    "mean_mse = np.mean(results['MSE'])\n",
    "\n",
    "results['Fold'].append('Mean')\n",
    "results['Accuracy'].append(mean_accuracy)\n",
    "results['Pearson Coefficient'].append(mean_pearson)\n",
    "results['MSE'].append(mean_mse)\n",
    "\n",
    "# Criar o DataFrame\n",
    "results_df = pd.DataFrame(results)\n",
    "\n",
    "# Exibir os resultados\n",
    "print(results_df)\n"
   ]
  },
  {
   "cell_type": "code",
   "execution_count": null,
   "metadata": {},
   "outputs": [],
   "source": []
  }
 ],
 "metadata": {
  "kernelspec": {
   "display_name": ".venv",
   "language": "python",
   "name": "python3"
  },
  "language_info": {
   "codemirror_mode": {
    "name": "ipython",
    "version": 3
   },
   "file_extension": ".py",
   "mimetype": "text/x-python",
   "name": "python",
   "nbconvert_exporter": "python",
   "pygments_lexer": "ipython3",
   "version": "3.11.5"
  }
 },
 "nbformat": 4,
 "nbformat_minor": 2
}
